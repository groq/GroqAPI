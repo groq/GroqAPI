{
 "cells": [
  {
   "cell_type": "markdown",
   "metadata": {
    "ein.tags": "worksheet-0",
    "slideshow": {
     "slide_type": "-"
    }
   },
   "source": [
    "# Groq API - Adding Tensors"
   ]
  },
  {
   "cell_type": "markdown",
   "metadata": {
    "ein.tags": "worksheet-0",
    "slideshow": {
     "slide_type": "-"
    }
   },
   "source": [
    "In this tutorial, we show how to do a simple addition between two float16 tensors.  This program manually allocates memory for the 2 input tensors and the result tensor.  We demonstrate how to use Groq API as well as NumPy to compare the methods and confirm the results. The tutorial will also compile the program and run on the GroqChip. \n",
    "\n",
    "By the end of this tutorial, you should feel comfortable with the following concepts:\n",
    "* Time\n",
    "* Components\n",
    "* VXM pointwise add\n",
    "* GroqView\n",
    "\n",
    "It is expected that you have finished reading the Adding Tensors section of the Groq API Tutorial Guide prior to going through this tutorial. "
   ]
  },
  {
   "cell_type": "markdown",
   "metadata": {
    "ein.tags": "worksheet-0",
    "slideshow": {
     "slide_type": "-"
    }
   },
   "source": [
    "## Build a program and compile with Groq API"
   ]
  },
  {
   "cell_type": "markdown",
   "metadata": {
    "ein.tags": "worksheet-0",
    "slideshow": {
     "slide_type": "-"
    }
   },
   "source": [
    "Begin by importing Groq API."
   ]
  },
  {
   "cell_type": "code",
   "execution_count": null,
   "metadata": {
    "autoscroll": false,
    "ein.hycell": false,
    "ein.tags": "worksheet-0",
    "slideshow": {
     "slide_type": "-"
    }
   },
   "outputs": [],
   "source": [
    "import groq.api as g\n",
    "from groq.runner import tsp\n",
    "\n",
    "print(\"Python Packages imported successfully!\")"
   ]
  },
  {
   "cell_type": "markdown",
   "metadata": {
    "ein.tags": "worksheet-0",
    "slideshow": {
     "slide_type": "-"
    }
   },
   "source": [
    "We first declare the two tensors that we'll add together as `input_tensors`. This allocates memory for runtime input data and handles moving the data from the host memory to the GroqChip.\n",
    "This example uses float16, however, the following data types: int8, int16, int32, float16, float32 are also supported. "
   ]
  },
  {
   "cell_type": "code",
   "execution_count": null,
   "metadata": {
    "autoscroll": false,
    "ein.hycell": false,
    "ein.tags": "worksheet-0",
    "slideshow": {
     "slide_type": "-"
    }
   },
   "outputs": [],
   "source": [
    "t1_mt = g.input_tensor(shape=(2, 32), dtype=g.float16, name=\"tensor_1\")\n",
    "t2_mt = g.input_tensor(shape=(2, 32), dtype=g.float16, name=\"tensor_2\")"
   ]
  },
  {
   "cell_type": "markdown",
   "metadata": {
    "ein.tags": "worksheet-0",
    "slideshow": {
     "slide_type": "-"
    }
   },
   "source": [
    "`t1_mt` and `t2_mt` are declared as input tensors with shape `(2,32)` and type `float16`. By convention we append `_mt` to the tensor variable name to denote a memory tensor and `_st` for a streaming tensor. It is recommended to name all tensors. This will help with debug as well as viewing the tensor using GroqView. \n",
    "\n",
    "The following will create a component for the addition of the tensors. There are two stages of a component, as follows:\n",
    "\n",
    "1. <b> Initialization </b>- components create resource requests, static tensors, and child components.\n",
    "2. <b> Build</b> - function units are allocated (in this case the ALU for the add and the streams for the tensors) and time is assigned"
   ]
  },
  {
   "cell_type": "code",
   "execution_count": null,
   "metadata": {
    "autoscroll": false,
    "ein.hycell": false,
    "ein.tags": "worksheet-0",
    "slideshow": {
     "slide_type": "-"
    }
   },
   "outputs": [],
   "source": [
    "class Add_Component(g.Component):          # call the component class from Groq API\n",
    "    def __init__(self):    # Stage 1: Initialization\n",
    "        super().__init__()\n",
    "    def build(self, t1_in, t2_in, time=0):         # Stage 2: Build\n",
    "        add_result_st = t1_in.add(t2_in, time=time)             # Add t1 to t2, these values are passed to the component\n",
    "        add_result_mt = add_result_st.write(name=\"add_result_mt\")    # Write the result to memory and return the memory tensor\n",
    "        return add_result_mt"
   ]
  },
  {
   "cell_type": "markdown",
   "metadata": {},
   "source": [
    "Note that in the Add Component definition, we tell it to expect two input tensors (t1_in, t2_in). A good rule of thumb:\n",
    "* Input tensors do not go in components, they're passed to components.\n",
    "* We pass a start time to a component so that we can compose multiple components together and make sure they have the desired offset in time from each other. Another method is to use Buffered Resource Scopes (see Buffered Scopes Tutorial)\n",
    "\n",
    "As well, we see that time is assigned on the add operation. The Groq API backend will work from the time specified on the add to schedule the required reads and writes, taking into account the travel time for the data. \n",
    "\n",
    "Next we can instantiate and call our component, providing the two tensors we declared earlier. "
   ]
  },
  {
   "cell_type": "code",
   "execution_count": null,
   "metadata": {},
   "outputs": [],
   "source": [
    "my_add_func = Add_Component()\n",
    "add_result = my_add_func(t1_mt, t2_mt, time=50)     #pass both input tensors and time"
   ]
  },
  {
   "cell_type": "markdown",
   "metadata": {
    "ein.tags": "worksheet-0",
    "slideshow": {
     "slide_type": "-"
    }
   },
   "source": [
    "The result of adding the two tensors will be `add_result`. Since we've assigned time = 50, starting at Cycle 50, the GroqChip will read the tensors from memory, a few cycles later, the VXM will perform an addition, and the last step will be to write it back to memory."
   ]
  },
  {
   "cell_type": "markdown",
   "metadata": {
    "ein.tags": "worksheet-0",
    "slideshow": {
     "slide_type": "-"
    }
   },
   "source": [
    "By this point, we have a program that adds two `float16` tensors. The next step is to compile this program, generating the binary code to be loaded onto the GroqChip."
   ]
  },
  {
   "cell_type": "code",
   "execution_count": null,
   "metadata": {
    "autoscroll": false,
    "ein.hycell": false,
    "ein.tags": "worksheet-0",
    "slideshow": {
     "slide_type": "-"
    }
   },
   "outputs": [],
   "source": [
    "iop_file = g.compile(base_name=\"add_tensors\", result_tensor=add_result)\n",
    "print(iop_file)"
   ]
  },
  {
   "cell_type": "markdown",
   "metadata": {
    "ein.tags": "worksheet-0",
    "slideshow": {
     "slide_type": "-"
    }
   },
   "source": [
    "`add_tensors.iop` contains the binary compiled program. This will be used to program the GroqChip with the desired functionality of our add tensor program. "
   ]
  },
  {
   "cell_type": "markdown",
   "metadata": {},
   "source": [
    "## GroqView\n",
    "The GroqView can be used to view the instructions of your program in the GroqChip. Note: it is expected that you are familiar with the GroqView tool (See \"GroqView User Guide\") for this section of the tutorial. You may skip viewing the program in GroqView and move to the \"Prepare Data for Program\" section.\n",
    "\n",
    "Using the following command, we can create a .json file that can be used to view the program in hardware. This will show:\n",
    "* what instructions occur\n",
    "* where on the chip they take place, as well as \n",
    "* when in time (cycles) each instruction occurs. "
   ]
  },
  {
   "cell_type": "code",
   "execution_count": null,
   "metadata": {},
   "outputs": [],
   "source": [
    "g.write_visualizer_data(\"add_tensors\")"
   ]
  },
  {
   "cell_type": "markdown",
   "metadata": {},
   "source": [
    "To launch the GroqView, uncomment and run the following command. Remember, you still need to create a tunnel to the server running GroqView to load in another window. \n",
    "\n",
    "<b>Note:</b> before proceeding to the next section, you'll want to stop this cell. \n",
    "\n",
    "In the GroqView tool, you should see the input tensors being read from memory, streamed to the VXM where they are added together and the result written back into memory. "
   ]
  },
  {
   "cell_type": "code",
   "execution_count": null,
   "metadata": {},
   "outputs": [],
   "source": [
    "#!groqview add_tensors/visdata.json"
   ]
  },
  {
   "cell_type": "markdown",
   "metadata": {},
   "source": [
    "## Add Program to GroqChip"
   ]
  },
  {
   "cell_type": "markdown",
   "metadata": {
    "ein.tags": "worksheet-0",
    "slideshow": {
     "slide_type": "-"
    }
   },
   "source": [
    "The next step is to use the create_tsp_runner function to load the program on the GroqChip. This will use the binary executable we compiled earlier to program the chip. "
   ]
  },
  {
   "cell_type": "code",
   "execution_count": null,
   "metadata": {
    "autoscroll": false,
    "ein.hycell": false,
    "ein.tags": "worksheet-0",
    "slideshow": {
     "slide_type": "-"
    }
   },
   "outputs": [],
   "source": [
    "add_program = tsp.create_tsp_runner(iop_file)"
   ]
  },
  {
   "cell_type": "markdown",
   "metadata": {
    "ein.tags": "worksheet-0",
    "slideshow": {
     "slide_type": "-"
    }
   },
   "source": [
    "At this point the binary program `add_tensors.iop` has been loaded on the GroqChip. We can now start sending data from the host to the program. "
   ]
  },
  {
   "cell_type": "markdown",
   "metadata": {
    "ein.tags": "worksheet-0",
    "slideshow": {
     "slide_type": "-"
    }
   },
   "source": [
    "## Prepare Data for Program"
   ]
  },
  {
   "cell_type": "markdown",
   "metadata": {
    "ein.tags": "worksheet-0",
    "slideshow": {
     "slide_type": "-"
    }
   },
   "source": [
    "Using NumPy, we'll create two randomly generated tensors as inputs. We ensure that the shape of the tensors and the data type match what the GroqChip is programmed for: (2, 32) and float16."
   ]
  },
  {
   "cell_type": "code",
   "execution_count": null,
   "metadata": {
    "autoscroll": false,
    "ein.hycell": false,
    "ein.tags": "worksheet-0",
    "slideshow": {
     "slide_type": "-"
    }
   },
   "outputs": [],
   "source": [
    "import numpy as np\n",
    "\n",
    "shape = (2, 32)\n",
    "t1_data = np.random.rand(2, 32).astype(np.float16)\n",
    "t2_data = np.random.rand(2, 32).astype(np.float16)"
   ]
  },
  {
   "cell_type": "markdown",
   "metadata": {},
   "source": [
    "Now that we have input data, let's send the tensors to the GroqChip and it will return the result of adding the two tensors together. The arguments to `add_program` are the input tensors for the loaded program. Here, `tensor_1` is the name of the input tensor previously allocated at the beginning, and `t1_data` is the tensor containing the input data."
   ]
  },
  {
   "cell_type": "code",
   "execution_count": null,
   "metadata": {
    "autoscroll": false,
    "ein.hycell": false,
    "ein.tags": "worksheet-0",
    "slideshow": {
     "slide_type": "-"
    }
   },
   "outputs": [],
   "source": [
    "result = add_program(tensor_1=t1_data, tensor_2=t2_data)"
   ]
  },
  {
   "cell_type": "markdown",
   "metadata": {
    "ein.tags": "worksheet-0",
    "slideshow": {
     "slide_type": "-"
    }
   },
   "source": [
    "Let's check that the results from the GroqChip are correct by comparing them with the result calculated via NumPy:"
   ]
  },
  {
   "cell_type": "code",
   "execution_count": null,
   "metadata": {
    "autoscroll": false,
    "ein.hycell": false,
    "ein.tags": "worksheet-0",
    "slideshow": {
     "slide_type": "-"
    }
   },
   "outputs": [],
   "source": [
    "numpy_result = t1_data + t2_data\n",
    "np.array_equal(result['add_result_mt'], numpy_result)"
   ]
  },
  {
   "cell_type": "markdown",
   "metadata": {
    "ein.tags": "worksheet-0",
    "slideshow": {
     "slide_type": "-"
    }
   },
   "source": [
    "## Back to Back Computations"
   ]
  },
  {
   "cell_type": "markdown",
   "metadata": {
    "ein.tags": "worksheet-0",
    "slideshow": {
     "slide_type": "-"
    }
   },
   "source": [
    "The GroqChip is still programmed with the `add tensors` program so we can continue to provide input data and it will return the results of adding them together. Let's look at how we can perform calls to the same program repeatedly with different input tensors and check the results with NumPy."
   ]
  },
  {
   "cell_type": "code",
   "execution_count": null,
   "metadata": {
    "autoscroll": false,
    "ein.hycell": false,
    "ein.tags": "worksheet-0",
    "slideshow": {
     "slide_type": "-"
    }
   },
   "outputs": [],
   "source": [
    "for i in range(3):\n",
    "    print(f\"Inference {i}\")\n",
    "    t1_data = np.random.rand(2, 32).astype(np.float16)\n",
    "    t2_data = np.random.rand(2, 32).astype(np.float16)\n",
    "    result = add_program(tensor_1=t1_data, tensor_2=t2_data)\n",
    "    numpy_result = t1_data + t2_data\n",
    "    np.array_equal(result['add_result_mt'], numpy_result)\n",
    "    print(f\"Validated {i} -->\", np.array_equal(result['add_result_mt'], numpy_result))"
   ]
  },
  {
   "cell_type": "code",
   "execution_count": null,
   "metadata": {},
   "outputs": [],
   "source": []
  }
 ],
 "metadata": {
  "kernelspec": {
   "display_name": "Python 3",
   "language": "python",
   "name": "python3"
  },
  "language_info": {
   "codemirror_mode": {
    "name": "ipython",
    "version": 3
   },
   "file_extension": ".py",
   "mimetype": "text/x-python",
   "name": "python",
   "nbconvert_exporter": "python",
   "pygments_lexer": "ipython3",
   "version": "3.6.9"
  }
 },
 "nbformat": 4,
 "nbformat_minor": 2
}
