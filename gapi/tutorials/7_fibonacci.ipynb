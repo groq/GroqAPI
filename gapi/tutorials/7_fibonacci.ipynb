{
 "cells": [
  {
   "cell_type": "markdown",
   "metadata": {},
   "source": [
    "# Groq API - Fibonacci Tutorial\n",
    "The following tutorial uses the Fibonacci sequence to demonstrate how program contexts can be used to create coresident models. To do this, multiple programs are compiled together and then loaded into the GroqChip memory.\n",
    "\n",
    "By the end of this tutorial, you should be familiar with the following concepts:\n",
    "* Program Contexts\n",
    "* Shared Tensors / Storage Requests\n",
    "* Input/Output Program (IOP) Files\n",
    "\n",
    "It is expected that you have finished reading the <b>Coresident Models</b> section of the Groq API Tutorial Guide prior to going through this tutorial."
   ]
  },
  {
   "cell_type": "markdown",
   "metadata": {},
   "source": [
    "## Fibonacci Series Refresher\n",
    "`t = a1 + a2`\n",
    "\n",
    "`a1 = a2`\n",
    "\n",
    "`a2 = t`\n",
    "\n",
    "<b>Note:</b> for this version of the program, we will use scalars to keep the computation simple.\n",
    "We'll break up the implementation into the 3 programs (using program contexts), as outlined below:\n",
    "\n",
    "# GroqAPI Implementation:\n",
    "- <b>Initialize:</b> The first program context that will receive two input values from the host and store them in memory. This memory location will be used by the other programs.\n",
    "- <b>Iterate:</b> The second program context that receives the memory locations where the input data is stored, which will compute a single iteration of the Fibonacci sequence and update the contents in memory.\n",
    "- <b>Offload:</b> The final program context that returns the values from the shared memory location where the most recent iteration in the Fibonacci sequence is stored.\n",
    "\n",
    "While this example may seem trivial, it demonstrates that you can iterate on a program for N amount of times before unloading the results to the host. "
   ]
  },
  {
   "cell_type": "markdown",
   "metadata": {},
   "source": [
    "## Build Your Program\n",
    "Begin by importing the Groq API and Python NumPy packages."
   ]
  },
  {
   "cell_type": "code",
   "execution_count": null,
   "metadata": {},
   "outputs": [],
   "source": [
    "import os  # Used for package directory management\n",
    "import shutil\n",
    "\n",
    "import groq.api as g\n",
    "from typing import Dict, Optional\n",
    "print(\"Python packages imported successfully\")"
   ]
  },
  {
   "cell_type": "markdown",
   "metadata": {},
   "source": [
    "## Program Definition\n",
    "\n",
    "This example includes multiple program contexts (i.e. Initialize, Iterate, and Offload). These program contexts are packaged together (within a <b>program package</b>) to run on a single GroqCard accelerator. As such, we'll configure our API program to use a single card topology.\n",
    "\n",
    "First, we'll create a program context and pass in \"init\" as our first program name. This will allow us to define the compute graph for the initialization, which will receive two input values from the host and save them to memory.\n",
    "\n",
    "Second, we'll create a program context for the \"iterate\" program, i.e. our second program context. This program is our longest as it will compute the addition of the two values saved in the memory location during the init program. It will also update the values in memory.\n",
    "\n",
    "Lastly, we'll create one more program context for the \"offload\" program that will return the result from GroqChip memory to the host."
   ]
  },
  {
   "cell_type": "code",
   "execution_count": null,
   "metadata": {},
   "outputs": [],
   "source": [
    "class IopFileNames:\n",
    "    INIT = \"init\"\n",
    "    ITERATE = \"iterate\"\n",
    "    OFFLOAD = \"offload\"\n",
    "\n",
    "def specify_program(program_package: g.ProgramPackage, prog_name: str):\n",
    "    topo = g.configure_topology(config=g.TopologyConfig.DF_A14_1_CHIP)\n",
    "    print(f\"Building multi-chip program {prog_name} with {topo.name} topology.\")\n",
    "    \n",
    "    # Create a new program context for the INIT program\n",
    "    init_ctx = program_package.create_program_context(IopFileNames.INIT, topo)\n",
    "\n",
    "    with init_ctx:\n",
    "        shape = (1,)           # Define our tensor shape, in this case a scalar\n",
    "        dtype = g.float16      # Define the desired data type\n",
    "\n",
    "        # layout = west hemisphere, 2 slices for FP16, allocate the first 2 slices for the first scalar and the subsequent two slices for the second input\n",
    "        a1_mt = g.input_tensor(shape, dtype, name=\"a1_input\", layout=\"H1(W), -1, S2(0-1)\")\n",
    "        a2_mt = g.input_tensor(shape, dtype, name=\"a2_input\", layout=\"H1(W), -1, S2(2-3)\")\n",
    "\n",
    "        a1_mt.is_static = True\n",
    "        a2_mt.is_static = True\n",
    "\n",
    "    # Next, we create the second program context for the ITERATE program\n",
    "    iterate_ctx = program_package.create_program_context(IopFileNames.ITERATE, topo)\n",
    "\n",
    "    with iterate_ctx:\n",
    "\n",
    "        # Create shared memory tensors that reference the tensors from the init program\n",
    "        # This copies a tensor's memory allocation from the init program context into the iterate_ctx\n",
    "        shared_a1_mt = g.shared_memory_tensor(\n",
    "            mem_tensor=a1_mt, name=\"shared_a1\"\n",
    "        )\n",
    "        shared_a2_mt = g.shared_memory_tensor(\n",
    "            mem_tensor=a2_mt, name=\"shared_a2\"\n",
    "        )\n",
    "        \n",
    "        # We use buffered resource scopes to easily schedule one operation after the other\n",
    "        # The first resource scope will compute t = a1 + a2\n",
    "        with g.ResourceScope(name=\"add\", is_buffered=True, time=0) as add_scope:\n",
    "            t_st = shared_a1_mt.add(shared_a2_mt, time=0) # Use the shared memory tensors since that's where the input values were stored\n",
    "            t_mt = t_st.write(name=\"t_mt\")\n",
    "            t_mt.is_static = True\n",
    "            \n",
    "        # In the second resource scope, we'll update the memory location of a1 to equal the value of a2\n",
    "        with g.ResourceScope(\n",
    "            name=\"shuffle\", is_buffered=True, time=None, predecessors=[add_scope]\n",
    "        ) as shuffle_scope:\n",
    "            # Read value from a2 memory location\n",
    "            a1_st = a2_mt.read(streams=g.SG1[0], time=0)\n",
    "            # Write to a2 value to a1 memory location\n",
    "            a1_mt = a1_st.write()\n",
    "            a1_mt.storage_request = shared_a1_mt.storage_request\n",
    "            \n",
    "        # Next, we update a2 to equal the value of t\n",
    "        with g.ResourceScope(\n",
    "            name=\"shuffle2\",\n",
    "            is_buffered=True,\n",
    "            time=None,\n",
    "            predecessors=[shuffle_scope],\n",
    "        ) as shuffle_scope2:\n",
    "            # Read from memory\n",
    "            a2_st = t_mt.read(streams=g.SG1[0], time=0)\n",
    "            # Write to memory\n",
    "            a2_mt = a2_st.write()\n",
    "            a2_mt.storage_request = shared_a2_mt.storage_request\n",
    "\n",
    "    # Lastly, we create the OFFLOAD program that will read the final value of `t` from memory and return the result to the host, thereby \"offloading\" the final value. \n",
    "    offload_ctx = program_package.create_program_context(IopFileNames.OFFLOAD, topo)\n",
    "\n",
    "    with offload_ctx:\n",
    "        # Create a shared memory tensor referring to the t value in memory.\n",
    "        result_mt = g.shared_memory_tensor(\n",
    "            mem_tensor=t_mt, name=\"result_out\"\n",
    "        )\n",
    "        # Mark as program output to be returned to host\n",
    "        result_mt.set_program_output()\n",
    "\n",
    "    # Compile the last program context\n",
    "    program_package.compile_program_context(offload_ctx)"
   ]
  },
  {
   "cell_type": "markdown",
   "metadata": {},
   "source": [
    "With the 3 programs defined in our `specify_program` function, we can instantiate it, passing the program name and package information. "
   ]
  },
  {
   "cell_type": "code",
   "execution_count": null,
   "metadata": {},
   "outputs": [],
   "source": [
    "pkg_name = \"fibonacci_package\"  # Specify a name for your program package\n",
    "pkg_dir = \"./IOP\"  # Specify a directory for the different IOP files generated for each device to be placed.\n",
    "\n",
    "# The following checks that the package directory is empty\n",
    "isdir = os.path.isdir(pkg_dir)\n",
    "if isdir:\n",
    "    shutil.rmtree(pkg_dir)\n",
    "\n",
    "# Create Program Package\n",
    "program_package = g.ProgramPackage(name=pkg_name, output_dir=pkg_dir)\n",
    "print(f\"Program package created: {pkg_name} at {pkg_dir}\")\n",
    "\n",
    "prog_name = \"fibonacci_program\"\n",
    "\n",
    "# Call the function we defined in the previous step\n",
    "specify_program(program_package, prog_name)\n",
    "\n",
    "# The next step will generate a single IOP file that contains the 3 programs we defined.\n",
    "program_package.assemble()\n",
    "print(f\"Assembled multi-device package {pkg_name}\")"
   ]
  },
  {
   "cell_type": "markdown",
   "metadata": {},
   "source": [
    "With our IOP file generated, let's take a look at what was actually created. To do this, we'll use the `iop-utils` tool that is included in the GroqWare Suite. This tool can be used to look at more details about the IOP file. For background, a single program in an IOP file includes the following entry points into the program:\n",
    "\n",
    "0) Monolithic - Comprised of the next 3 entry points, i.e. Input, Compute, and Output.\n",
    "\n",
    "1) Input - Loads inputs onto the GroqChip\n",
    "\n",
    "2) Compute - Executes the program instructions in the compute graph\n",
    "\n",
    "3) Output - Unloads the results from the GroqChip\n",
    "\n",
    "In the IOP file we just generated, you should see three programs (init, iterate, offload) and each program should have four entry points (Mono, Input, Compute, Output). This is a great way to check that your programs are packaged correctly with the inputs and outputs defined as expected.\n"
   ]
  },
  {
   "cell_type": "code",
   "execution_count": null,
   "metadata": {},
   "outputs": [],
   "source": [
    "# !iop-utils io IOP/fibonacci_package.0.iop"
   ]
  },
  {
   "cell_type": "markdown",
   "metadata": {},
   "source": [
    "While looking at the IOP file, let's create a class to define the entry points. We'll use this when we execute our programs. "
   ]
  },
  {
   "cell_type": "code",
   "execution_count": null,
   "metadata": {},
   "outputs": [],
   "source": [
    "class EntryPoint: \n",
    "    MONO = 0\n",
    "    INPUT = 1\n",
    "    COMPUTE = 2\n",
    "    OUTPUT = 3"
   ]
  },
  {
   "cell_type": "markdown",
   "metadata": {},
   "source": [
    "# Running on Hardware\n",
    "While the following code is included in a single notebook for user ease, in reality, the runtime execution portion is separate from the compilation portion. As such, we show all the code necessary for runtime execution as well, including specifying the imports needed."
   ]
  },
  {
   "cell_type": "code",
   "execution_count": null,
   "metadata": {},
   "outputs": [],
   "source": [
    "import numpy as np\n",
    "import groq.api as g\n",
    "import groq.runtime.driver as runtime"
   ]
  },
  {
   "cell_type": "markdown",
   "metadata": {},
   "source": [
    "### Define a Function to Invoke Our Program Package\n",
    "\n",
    "The following function demonstrates how to invoke a program on the GroqCard by specifying the program package and the entry point. For this function, we'll specify the following:\n",
    "* Device (i.e. the physical card we want the program to execute on), \n",
    "* The program to run (init, iterate, or offload), \n",
    "* The entry point (monolithic for this example, but it is also possible to call specific entry points), \n",
    "* Any input tensors (Dict) to pass from the host to the GroqCard (only needed for the init program)\n"
   ]
  },
  {
   "cell_type": "code",
   "execution_count": null,
   "metadata": {},
   "outputs": [],
   "source": [
    "def invoke(device, program, entry_point, tensors: Optional[Dict[str, np.ndarray]]=None):\n",
    "    ep = program.entry_points[entry_point]\n",
    "    input_buffer = runtime.BufferArray(ep.input, 1)[0]\n",
    "    output_buffer = runtime.BufferArray(ep.output, 1)[0]\n",
    "    if ep.input.tensors:\n",
    "        for input_tensor in ep.input.tensors:\n",
    "            if input_tensor.name not in tensors:\n",
    "                raise ValueError(\n",
    "                    f\"Missing input tensor named {input_tensor.name}\")\n",
    "            input_tensor.from_host(tensors[input_tensor.name], input_buffer)\n",
    "    device.invoke(input_buffer, output_buffer)\n",
    "    outs = {}\n",
    "    if ep.output.tensors:\n",
    "        for output_tensor in ep.output.tensors:\n",
    "            result_tensor = output_tensor.allocate_numpy_array()\n",
    "            output_tensor.to_host(output_buffer, result_tensor)\n",
    "            outs[output_tensor.name] = result_tensor\n",
    "    return outs"
   ]
  },
  {
   "cell_type": "markdown",
   "metadata": {},
   "source": [
    "## Reserve a GroqCard and Load IOP File\n",
    "The following will introduce our Runtime API to reserve a GroqCard in your system, and load the program onto the reserved device.\n",
    "By using `unsafe_keep_entry_points=True`, we instruct the runtime tools not to overwrite the existing set of entry points on the GroqChip when it does the load.\n",
    "<b>Note:</b> The `unsafe_keep_entry_points=True` is named as such because, unless your program package was compiled/scheduled/linked to be compatible with the current load set, you may conflict with stale information that could hang the chip if invoked incorrectly."
   ]
  },
  {
   "cell_type": "code",
   "execution_count": null,
   "metadata": {},
   "outputs": [],
   "source": [
    "iop_file = \"./IOP/fibonacci_package.0.iop\"\n",
    "iop = runtime.IOProgram(iop_file)\n",
    "programs = {program.name: program for program in iop}\n",
    "device = runtime.devices[0]  # Assumes the first GroqCard in the system\n",
    "\n",
    "# Open the device\n",
    "device.open()\n",
    "\n",
    "# Load each of the programs in the IOP file\n",
    "device.load(programs[IopFileNames.INIT])\n",
    "device.load(programs[IopFileNames.ITERATE], unsafe_keep_entry_points=True)\n",
    "device.load(programs[IopFileNames.OFFLOAD], unsafe_keep_entry_points=True)"
   ]
  },
  {
   "cell_type": "markdown",
   "metadata": {},
   "source": [
    "## Execute\n",
    "\n",
    "We'll create some input data and then use the invoke function we defined earlier to execute each program that has been loaded on the GroqCard."
   ]
  },
  {
   "cell_type": "code",
   "execution_count": null,
   "metadata": {},
   "outputs": [],
   "source": [
    "a1 = np.array(0, dtype=np.float16)\n",
    "a2 = np.array(1, dtype=np.float16)\n",
    "inputs = {\"a1_input\" : a1, \"a2_input\" : a2} #[a1, a2]\n",
    "\n",
    "# invoke (device, program by name, entry point, inputs/outputs if there are any)\n",
    "print(\"Invoking INPUT\")\n",
    "invoke(device, programs[IopFileNames.INIT], EntryPoint.INPUT, tensors=inputs) \n",
    "\n",
    "print(\"Invoking ITERATE\")\n",
    "# Execute compute: No input to the program is needed as the data is already on the chip\n",
    "invoke(device, programs[IopFileNames.ITERATE], EntryPoint.COMPUTE)  \n",
    "\n",
    "print(\"Invoking OFFLOAD\")\n",
    "# entry.pt 0x03 = outputs\n",
    "program_3_output = invoke(device, programs[IopFileNames.OFFLOAD], EntryPoint.OUTPUT)\n",
    "print(program_3_output)"
   ]
  },
  {
   "cell_type": "markdown",
   "metadata": {},
   "source": [
    "## Check Our Work\n",
    "We'll define a Fibonacci function to check the results from the GroqCard."
   ]
  },
  {
   "cell_type": "code",
   "execution_count": null,
   "metadata": {},
   "outputs": [],
   "source": [
    "## Define Fibonacci to check the results from the GroqCard\n",
    "\n",
    "def fibonacci(n):\n",
    "    a = 0\n",
    "    b = 1\n",
    "\n",
    "    for i in range(n):\n",
    "        c = a + b\n",
    "        a = b\n",
    "        b = c\n",
    "    return b"
   ]
  },
  {
   "cell_type": "markdown",
   "metadata": {},
   "source": [
    "## Execution in a loop\n",
    "\n",
    "What becomes more interesting is that since the programs are loaded onto the GroqCard, you can execute the loop on any one of the programs, for example the \"iterate\" program to calculate more values in the Fibonacci sequence. \n",
    "\n",
    "For example..."
   ]
  },
  {
   "cell_type": "code",
   "execution_count": null,
   "metadata": {},
   "outputs": [],
   "source": [
    "# Define our inputs / starting values\n",
    "a1 = np.array(0, dtype=np.float16)\n",
    "a2 = np.array(1, dtype=np.float16)\n",
    "inputs = {\"a1_input\" : a1, \"a2_input\" : a2} #[a1, a2]\n",
    "\n",
    "# Set the number of iterations\n",
    "loops = 6\n",
    "\n",
    "# invoke (device, program by name,  entry point, inputs/outputs if there are any)\n",
    "print(\"Invoking init\")\n",
    "invoke(device, programs[IopFileNames.INIT], EntryPoint.INPUT, tensors=inputs)\n",
    "\n",
    "for x in range(loops):\n",
    "    print(\"invoking iterate\", x)\n",
    "    invoke(device, programs[IopFileNames.ITERATE], EntryPoint.COMPUTE)\n",
    "\n",
    "print(\"invoking offload\")\n",
    "program_3_output = invoke(device, programs[IopFileNames.OFFLOAD], EntryPoint.OUTPUT)\n",
    "print(\"The Results from Fibonacci is...\")\n",
    "print(program_3_output[\"result_out\"])\n",
    "\n",
    "if (fibonacci(loops) != program_3_output[\"result_out\"]) :\n",
    "    raise Exception(\"Results do not match\")\n",
    "else :\n",
    "    print(fibonacci(loops))"
   ]
  },
  {
   "cell_type": "markdown",
   "metadata": {},
   "source": [
    "### GroqView (OPTIONAL)\n",
    "GroqView can be used to view the instructions of your program in the GroqChip. When you click on an instruction, you can get the name of the Tensor API level operation. Note: it is expected that you are familiar with GroqView for the following section of this tutorial. See the GroqView User Guide for more details. \n",
    "\n",
    "Using the following command, we can create a .json file that can be used to view the program in hardware. This will show:\n",
    "* What instructions occur\n",
    "* Where on the chip they take place, as well as\n",
    "* When in time (cycles) each instruction occurs.\n",
    "\n",
    "To launch the GroqView tool, uncomment and run the following command. Remember, you still need to create a tunnel to the server running GroqView to load in another window.\n",
    "\n",
    "<b>Note:</b> before proceeding to the next section, you'll want to stop this cell."
   ]
  },
  {
   "cell_type": "code",
   "execution_count": null,
   "metadata": {},
   "outputs": [],
   "source": [
    "g.write_visualizer_data(\"fibonacci\")\n",
    "#!groqview fibonacci/visdata.json "
   ]
  },
  {
   "cell_type": "markdown",
   "metadata": {},
   "source": [
    "In the GroqView tool, you should see that the tensor is copied 2 bytes * 32-way SIMD per cycle over the course of 32 cycles."
   ]
  }
 ],
 "metadata": {
  "kernelspec": {
   "display_name": "Python 3",
   "language": "python",
   "name": "python3"
  },
  "language_info": {
   "codemirror_mode": {
    "name": "ipython",
    "version": 3
   },
   "file_extension": ".py",
   "mimetype": "text/x-python",
   "name": "python",
   "nbconvert_exporter": "python",
   "pygments_lexer": "ipython3",
   "version": "3.8.8"
  }
 },
 "nbformat": 4,
 "nbformat_minor": 2
}
